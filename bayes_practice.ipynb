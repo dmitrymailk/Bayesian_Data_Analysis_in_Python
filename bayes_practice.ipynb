{
 "cells": [
  {
   "cell_type": "code",
   "execution_count": 22,
   "metadata": {},
   "outputs": [],
   "source": [
    "import numpy as np\n",
    "import pandas as pd\n",
    "from scipy.stats import uniform, binom\n",
    "import seaborn as sns\n",
    "import matplotlib.pyplot as plt"
   ]
  },
  {
   "cell_type": "markdown",
   "metadata": {},
   "source": [
    "### Towards grid approximation"
   ]
  },
  {
   "cell_type": "markdown",
   "metadata": {},
   "source": [
    "Congratulations! You have just been hired as a data analyst at your government's Department of Health. The cabinet is considering the purchase of a brand-new drug against a deadly and contagious virus. There are some doubts, however, regarding how effective the new drug is against the virus. You have been tasked with estimating the drug's efficacy rate, i.e. the percentage of patients cured by the drug.\n",
    "\n",
    "An experiment was quickly set up in which 10 sick patients have been treated with the drug. Once you know how many of them are cured, you can use the binomial distribution with a cured patient being a \"success\" and the efficacy rate being the \"probability of success\". While you are waiting for the experiment's results, you decide to prepare the parameter grid.\n",
    "\n",
    "numpy and pandas have been imported for you as np and pd, respectively."
   ]
  },
  {
   "cell_type": "markdown",
   "metadata": {},
   "source": [
    "##### Instructions"
   ]
  },
  {
   "cell_type": "markdown",
   "metadata": {},
   "source": [
    "- Using np.arange(), create an array of all possible numbers of patients cured (from 0 to 10) and assign it to num_patients_cured.\n",
    "- Using np.arange(), create an array of all possible values for the efficacy rate (from 0 to 1, by 0.01) and assign it to efficacy_rate.\n",
    "- Combine num_patients_cured and efficacy_rate into a DataFrame called df, listing all possible combinations of the two.\n",
    "- Assign [\"num_patients_cured\", \"efficacy_rate\"] to df's columns and print it."
   ]
  },
  {
   "cell_type": "code",
   "execution_count": 6,
   "metadata": {},
   "outputs": [
    {
     "name": "stdout",
     "output_type": "stream",
     "text": [
      "      num_patients_cured  efficacy_rate\n",
      "0                      0           0.00\n",
      "1                      0           0.01\n",
      "2                      0           0.02\n",
      "3                      0           0.03\n",
      "4                      0           0.04\n",
      "...                  ...            ...\n",
      "1106                  10           0.96\n",
      "1107                  10           0.97\n",
      "1108                  10           0.98\n",
      "1109                  10           0.99\n",
      "1110                  10           1.00\n",
      "\n",
      "[1111 rows x 2 columns]\n"
     ]
    }
   ],
   "source": [
    "# Create cured patients array from 1 to 10\n",
    "num_patients_cured = np.arange(0, 11, 1)\n",
    "\n",
    "# Create efficacy rate array from 0 to 1 by 0.01\n",
    "efficacy_rate = np.arange(0, 1.01, 0.01)\n",
    "\n",
    "# Combine the two arrays in one DataFrame\n",
    "df = pd.DataFrame([(x, y) for x in num_patients_cured for y in efficacy_rate])\n",
    "\n",
    "# Name the columns\n",
    "df.columns = [\"num_patients_cured\", \"efficacy_rate\"]\n",
    "\n",
    "# Print df\n",
    "print(df)"
   ]
  },
  {
   "cell_type": "markdown",
   "metadata": {},
   "source": [
    "##### Grid approximation without prior knowledge"
   ]
  },
  {
   "cell_type": "markdown",
   "metadata": {},
   "source": [
    "According to the experiment's outcomes, out of 10 sick patients treated with the drug, 9 have been cured. What can you say about the drug's efficacy rate based on such a small sample? Assume you have no prior knowledge whatsoever regarding how good the drug is.\n",
    "\n",
    "A DataFrame df with all possible combinations of the number of patients cured and the efficacy rate which you created in the previous exercise is available in the workspace.\n",
    "\n",
    "uniform and binom have been imported for you from scipy.stats. Also, pandas and seaborn are imported as pd and sns, respectively."
   ]
  },
  {
   "cell_type": "markdown",
   "metadata": {},
   "source": [
    "##### Instructions 1/4\n",
    "- Calculate a uniform prior for efficacy_rate using uniform.pdf() and assign it as a new column to df.\n",
    "- Calculate the binomial likelihood using binom.pmf() by passing the number of \"successes\", the total number of observations, and the \"probability of success\", and assign the result as a new column to df"
   ]
  },
  {
   "cell_type": "code",
   "execution_count": 8,
   "metadata": {},
   "outputs": [],
   "source": [
    "# Calculate the prior efficacy rate and the likelihood\n",
    "df[\"prior\"] = uniform.pdf(df[\"efficacy_rate\"])\n",
    "df[\"likelihood\"] = binom.pmf(df[\"num_patients_cured\"], 10, df[\"efficacy_rate\"])"
   ]
  },
  {
   "cell_type": "markdown",
   "metadata": {},
   "source": [
    "##### Instructions 2/4\n",
    "- Calculate the posterior probability for efficacy rate, assign it to a new column called posterior_prob in df, and scale it so that it sums up to 1."
   ]
  },
  {
   "cell_type": "code",
   "execution_count": 15,
   "metadata": {},
   "outputs": [],
   "source": [
    "# Calculate the posterior efficacy rate and scale it to sum up to one\n",
    "df[\"posterior_prob\"] = df[\"prior\"] * df[\"likelihood\"]\n",
    "df[\"posterior_prob\"] /= df[\"posterior_prob\"].sum()"
   ]
  },
  {
   "cell_type": "markdown",
   "metadata": {},
   "source": [
    "##### Instructions 3/4\n",
    "- Filter df to keep only rows where the number of patients cured is 9, assign the result to df_9_of_10_cured, and scale the posterior_prob so that it sums up to 1."
   ]
  },
  {
   "cell_type": "code",
   "execution_count": 19,
   "metadata": {},
   "outputs": [
    {
     "name": "stderr",
     "output_type": "stream",
     "text": [
      "C:\\Users\\dimweb\\AppData\\Local\\Temp\\ipykernel_23340\\4035443208.py:3: SettingWithCopyWarning: \n",
      "A value is trying to be set on a copy of a slice from a DataFrame.\n",
      "Try using .loc[row_indexer,col_indexer] = value instead\n",
      "\n",
      "See the caveats in the documentation: https://pandas.pydata.org/pandas-docs/stable/user_guide/indexing.html#returning-a-view-versus-a-copy\n",
      "  df_9_of_10_cured[\"posterior_prob\"] /= df_9_of_10_cured[\"posterior_prob\"].sum()\n"
     ]
    }
   ],
   "source": [
    "# Compute the posterior probability of observing 9 cured patients\n",
    "df_9_of_10_cured = df.loc[df[\"num_patients_cured\"] == 9]\n",
    "df_9_of_10_cured[\"posterior_prob\"] /= df_9_of_10_cured[\"posterior_prob\"].sum()"
   ]
  },
  {
   "cell_type": "markdown",
   "metadata": {},
   "source": [
    "##### Instructions 4/4\n",
    "- Plot the drug's posterior efficacy rate having seen 9 out of 10 patients cured."
   ]
  },
  {
   "cell_type": "code",
   "execution_count": 24,
   "metadata": {},
   "outputs": [
    {
     "data": {
      "image/png": "[encoded data removed]",
      "text/plain": [
       "<Figure size 432x288 with 1 Axes>"
      ]
     },
     "metadata": {
      "needs_background": "light"
     },
     "output_type": "display_data"
    }
   ],
   "source": [
    "# Plot the drug's posterior efficacy rate\n",
    "sns.lineplot(x=df_9_of_10_cured[\"efficacy_rate\"], y=df_9_of_10_cured[\"posterior_prob\"])\n",
    "plt.show()"
   ]
  },
  {
   "cell_type": "markdown",
   "metadata": {},
   "source": [
    "### Updating posterior belief\n",
    "\n",
    "Well done on estimating the posterior distribution of the efficacy rate in the previous exercise! Unfortunately, due to a small data sample, this distribution is quite wide, indicating much uncertainty regarding the drug's quality. Luckily, testing of the drug continues, and a group of another 12 sick patients have been treated, 10 of whom were cured. We need to update our posterior distribution with these new data!\n",
    "\n",
    "This is easy to do with the Bayesian approach. We simply need to run the grid approximation similarly as before, but with a different prior. We can use all our knowledge about the efficacy rate (embodied by the posterior distribution from the previous exercise) as a new prior! Then, we recompute the likelihood for the new data, and get the new posterior!\n",
    "\n",
    "The DataFrame you created in the previous exercise, df, is available in the workspace and binom has been imported for you from scipy.stats."
   ]
  },
  {
   "cell_type": "markdown",
   "metadata": {},
   "source": [
    "##### Instructions 1/4\n",
    "\n",
    "- Assign posterior_prob from df to a new column called new_prior.\n",
    "\n",
    "- Calculate the new_likelihood using binom.pmf() based on the new data and assign it as a new column to df."
   ]
  },
  {
   "cell_type": "code",
   "execution_count": 25,
   "metadata": {},
   "outputs": [],
   "source": [
    "# Assign old posterior to new prior and calculate likelihood\n",
    "df[\"new_prior\"] = df['posterior_prob']\n",
    "df[\"new_likelihood\"] = binom.pmf(df[\"num_patients_cured\"], 12, df[\"efficacy_rate\"])"
   ]
  },
  {
   "cell_type": "markdown",
   "metadata": {},
   "source": [
    "##### Instructions 2/4\n",
    "- Calculate the new_posterior_prob using new_prior and new_likelihood, assign it as a new column to df, and scale it by its sum."
   ]
  },
  {
   "cell_type": "code",
   "execution_count": 26,
   "metadata": {},
   "outputs": [],
   "source": [
    "# Calculate new posterior and scale it\n",
    "df[\"new_posterior_prob\"] = df['new_prior'] * df['new_likelihood']\n",
    "df[\"new_posterior_prob\"] /= df[\"new_posterior_prob\"].sum() "
   ]
  },
  {
   "cell_type": "markdown",
   "metadata": {},
   "source": [
    "##### Instructions 3/4\n",
    "- Filter df to keep only rows with 10 cured patients, assign the result to df_10_of_12_cured, and scale the new_posterior_prob so that it sums up to 1."
   ]
  },
  {
   "cell_type": "code",
   "execution_count": 27,
   "metadata": {},
   "outputs": [
    {
     "name": "stderr",
     "output_type": "stream",
     "text": [
      "C:\\Users\\dimweb\\AppData\\Local\\Temp\\ipykernel_23340\\920825871.py:3: SettingWithCopyWarning: \n",
      "A value is trying to be set on a copy of a slice from a DataFrame.\n",
      "Try using .loc[row_indexer,col_indexer] = value instead\n",
      "\n",
      "See the caveats in the documentation: https://pandas.pydata.org/pandas-docs/stable/user_guide/indexing.html#returning-a-view-versus-a-copy\n",
      "  df_10_of_12_cured[\"new_posterior_prob\"] /= df_10_of_12_cured['new_posterior_prob'].sum()\n"
     ]
    }
   ],
   "source": [
    "# Compute the posterior probability of observing 10 cured patients\n",
    "df_10_of_12_cured = df.loc[df['num_patients_cured'] == 10]\n",
    "df_10_of_12_cured[\"new_posterior_prob\"] /= df_10_of_12_cured['new_posterior_prob'].sum()"
   ]
  },
  {
   "cell_type": "markdown",
   "metadata": {},
   "source": [
    "##### Instructions 4/4\n",
    "\n",
    "We have two posterior distributions for the efficacy rate now:\n",
    "\n",
    "The one from the previous exercise (without prior knowledge, after seeing 9 out of 10 patients cured) which you have used as a new prior in this exercise.\n",
    "The updated one you have just calculated (after seeing another 10 out of 12 patients cured).\n",
    "You can plot them on top of each other using the following code chunk:\n",
    "```python\n",
    "sns.lineplot(df_10_of_12_cured[\"efficacy_rate\"], \n",
    "             df_10_of_12_cured[\"new_posterior_prob\"], \n",
    "             label=\"new posterior\")\n",
    "sns.lineplot(df_9_of_10_cured[\"efficacy_rate\"], \n",
    "             df_9_of_10_cured[\"posterior_prob\"], \n",
    "             label=\"old posterior = new prior\")\n",
    "plt.show()\n",
    "```\n",
    "\n",
    "Based on the plot, which of the following statements is false?"
   ]
  },
  {
   "cell_type": "code",
   "execution_count": 28,
   "metadata": {},
   "outputs": [
    {
     "name": "stderr",
     "output_type": "stream",
     "text": [
      "d:\\programming\\AI\\ai_env\\lib\\site-packages\\seaborn\\_decorators.py:36: FutureWarning: Pass the following variables as keyword args: x, y. From version 0.12, the only valid positional argument will be `data`, and passing other arguments without an explicit keyword will result in an error or misinterpretation.\n",
      "  warnings.warn(\n",
      "d:\\programming\\AI\\ai_env\\lib\\site-packages\\seaborn\\_decorators.py:36: FutureWarning: Pass the following variables as keyword args: x, y. From version 0.12, the only valid positional argument will be `data`, and passing other arguments without an explicit keyword will result in an error or misinterpretation.\n",
      "  warnings.warn(\n"
     ]
    },
    {
     "data": {
      "image/png": "[encoded data removed]",
      "text/plain": [
       "<Figure size 432x288 with 1 Axes>"
      ]
     },
     "metadata": {
      "needs_background": "light"
     },
     "output_type": "display_data"
    }
   ],
   "source": [
    "sns.lineplot(df_10_of_12_cured[\"efficacy_rate\"], \n",
    "             df_10_of_12_cured[\"new_posterior_prob\"], \n",
    "             label=\"new posterior\")\n",
    "sns.lineplot(df_9_of_10_cured[\"efficacy_rate\"], \n",
    "             df_9_of_10_cured[\"posterior_prob\"], \n",
    "             label=\"old posterior = new prior\")\n",
    "plt.show()"
   ]
  },
  {
   "cell_type": "markdown",
   "metadata": {},
   "source": [
    "##### This is true\n",
    "- The new posterior is higher and narrower than the old one, which means there is less uncertainty in the estimation. With more data, the posteriors usually get higher and narrower, indicating a more confident estimation.\n",
    "- Adding the data on the new 12 patients increase our estimate of the drug's effectiveness against the virus. Compare the new posterior that includes these new data with the old one: the former peaks slightly more to the right, and estimates lower efficacy rates between 60% and 80% as less likely.\n",
    "\n",
    "##### This is false\n",
    "The difference between these two distributions actually reflects what we have learned only from the data on the 12 new patients. The knowledge about the first 10 patients is already encoded in the old posterior, which became the new prior."
   ]
  },
  {
   "cell_type": "code",
   "execution_count": null,
   "metadata": {},
   "outputs": [],
   "source": []
  }
 ],
 "metadata": {
  "interpreter": {
   "hash": "c9258148627ad5a9c1cfe4ce5c6e243620826dc5184764f51a09a142cb30e363"
  },
  "kernelspec": {
   "display_name": "Python 3.8.8 ('ai_env': venv)",
   "language": "python",
   "name": "python3"
  },
  "language_info": {
   "codemirror_mode": {
    "name": "ipython",
    "version": 3
   },
   "file_extension": ".py",
   "mimetype": "text/x-python",
   "name": "python",
   "nbconvert_exporter": "python",
   "pygments_lexer": "ipython3",
   "version": "3.8.8"
  },
  "orig_nbformat": 4
 },
 "nbformat": 4,
 "nbformat_minor": 2
}
